{
 "cells": [
  {
   "cell_type": "markdown",
   "metadata": {},
   "source": [
    "# IOP Magnetism 2017 workshop\n",
    "\n",
    "5 April 2017, York, UK\n",
    "\n",
    "## Agenda\n",
    "\n",
    "09:00-10:00\tRefreshments \n",
    "Welcome: Marijan Beg, University of Southampton, Hans Fangohr, University of Southampton\n",
    "Delegates who wish to install the software on their computers can do so during this break\n",
    "\n",
    "10:30-12:30\tIntroduction to Micromagnetics and OOMMF\n",
    "Mike Donahue, NIST, USA\n",
    "\n",
    "12:30-14:00\tLunch and networking. Delegates can install the software on their laptops during this break\n",
    "\n",
    "14:00-15:15\tJupiter Interface to OOMMF\n",
    "Marijan Beg, University of Southampton, Hans Fangohr, University of Southampton\n",
    "\n",
    "15:15-15:45\tRefreshment break\n",
    "\n",
    "15:45-17:00\tJupiter Interface to OOMMF\n",
    "Marijan Beg, University of Southampton, Hans Fangohr, University of Southampton, with Q & A session\n",
    "\n",
    "## Exercises\n",
    "\n",
    "[Exercise 1](dynamics.ipynb)"
   ]
  }
 ],
 "metadata": {
  "kernelspec": {
   "display_name": "Python 3",
   "language": "python",
   "name": "python3"
  },
  "language_info": {
   "codemirror_mode": {
    "name": "ipython",
    "version": 3
   },
   "file_extension": ".py",
   "mimetype": "text/x-python",
   "name": "python",
   "nbconvert_exporter": "python",
   "pygments_lexer": "ipython3",
   "version": "3.5.2"
  }
 },
 "nbformat": 4,
 "nbformat_minor": 2
}
