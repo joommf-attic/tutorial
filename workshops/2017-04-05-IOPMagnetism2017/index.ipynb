{
 "cells": [
  {
   "cell_type": "markdown",
   "metadata": {
    "deletable": true,
    "editable": true
   },
   "source": [
    "# JOOMMF workshop\n",
    "\n",
    "IOP Magnetism 2017, 5 April 2017, York, UK\n",
    "\n",
    "Check [this page for online updates and recommended exercises](https://github.com/joommf/tutorial/blob/master/workshops/2017-04-05-IOPMagnetism2017/README.md). The page also explains how to download this file and all other tutorials to your machine, so that you can execute and extend the notebooks during the workshop.\n",
    "\n",
    "## Agenda\n",
    "\n",
    "- 09:00-10:00\tWelcome, and installation of software,\n",
    "  Hans Fangohr, Marijan Beg, University of Southampton\n",
    "\n",
    "- 10:30-12:30\tIntroduction to Micromagnetics and OOMMF,\n",
    "  Mike Donahue, NIST, USA\n",
    "\n",
    "- 12:30-14:00\tLunch and networking (PT201). \n",
    "\n",
    "- 14:00-15:15\tJupyter Interface to OOMMF: Lecture and Practical part 1, Hans Fangohr, Marijan Beg\n",
    "\n",
    "- 15:15-15:45\tRefreshment break\n",
    "\n",
    "- 15:45-17:00\tJupyter Interface to OOMMF: Lecture and Practical part 2\n",
    "  Followed by Q & A session \n",
    "  \n",
    "\n",
    "\n",
    "## Installation\n",
    "\n",
    "The installation instructions can be found [here](http://oommfc.readthedocs.io/en/latest/ipynb/installation.html). After you complete the installation, you can test it by following these [instructions](http://oommfc.readthedocs.io/en/latest/ipynb/testing.html). If you have any issues with the installation, we would be happy to assist you.\n",
    "\n",
    "## Running Jupyter notebook\n",
    "\n",
    "The Jupyter notebook can be started by executing\n",
    "```\n",
    "jupyter notebook\n",
    "```\n",
    "command in your terminal (command prompt). A detailed documentation of all Jupyter notebook features can be found at the Project Jupyter [website](http://jupyter.org).\n",
    "\n",
    "## Tutorials \n",
    "\n",
    "The following tutorials are available, and participants are encouraged to work through [a subset of these exercises](https://github.com/joommf/tutorial/blob/master/workshops/2017-04-05-IOPMagnetism2017/README.md#exercises) during the workshop:\n",
    "\n",
    "- [Tutorial 0 - First notebook](tutorial0_first_notebook.ipynb)\n",
    "- [Tutorial 1 - Geometry](tutorial1_geometry.ipynb)\n",
    "- [Tutorial 2 - Hamiltonian](tutorial2_hamiltonian.ipynb)\n",
    "- [Tutorial 3 - Dynamics](tutorial3_dynamics.ipynb)\n",
    "- [Tutorial 4 - Current induced DW motion](tutorial4_current_induced_dw_motion.ipynb)\n",
    "- [Exercise - DW pair conversion](exercise_dw_pair_conversion.ipynb)\n",
    "\n",
    "\n",
    "## Contact and support\n",
    "\n",
    "We have a number of communication channels [available](http://joommf.github.io/contact.html). If you want to join the live discussion, please log in to our Gitter [channel](https://gitter.im/joommf/Lobby)."
   ]
  },
  {
   "cell_type": "code",
   "execution_count": null,
   "metadata": {
    "collapsed": true
   },
   "outputs": [],
   "source": []
  }
 ],
 "metadata": {
  "kernelspec": {
   "display_name": "Python 3",
   "language": "python",
   "name": "python3"
  },
  "language_info": {
   "codemirror_mode": {
    "name": "ipython",
    "version": 3
   },
   "file_extension": ".py",
   "mimetype": "text/x-python",
   "name": "python",
   "nbconvert_exporter": "python",
   "pygments_lexer": "ipython3",
   "version": "3.6.0"
  }
 },
 "nbformat": 4,
 "nbformat_minor": 2
}
