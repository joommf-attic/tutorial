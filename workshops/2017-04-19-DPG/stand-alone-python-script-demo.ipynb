{
 "cells": [
  {
   "cell_type": "markdown",
   "metadata": {
    "deletable": true,
    "editable": true
   },
   "source": [
    "# Skyrmion - stand alone demo"
   ]
  },
  {
   "cell_type": "code",
   "execution_count": 1,
   "metadata": {
    "collapsed": false,
    "deletable": true,
    "editable": true
   },
   "outputs": [],
   "source": [
    "import oommfc as oc\n",
    "import numpy as np\n",
    "import discretisedfield as df\n",
    "#%matplotlib inline"
   ]
  },
  {
   "cell_type": "code",
   "execution_count": 2,
   "metadata": {
    "collapsed": false,
    "deletable": true,
    "editable": true
   },
   "outputs": [
    {
     "data": {
      "text/latex": [
       "$\\mathcal{H}=A [(\\nabla m_{x})^{2} + (\\nabla m_{y})^{2} + (\\nabla m_{z})^{2}]+D \\mathbf{m} \\cdot (\\nabla \\times \\mathbf{m})-\\mu_{0}M_\\text{s} \\mathbf{m} \\cdot \\mathbf{H}+K (\\mathbf{m} \\cdot \\mathbf{u})^{2}-\\frac{1}{2}\\mu_{0}M_\\text{s}\\mathbf{m} \\cdot \\mathbf{H}_\\text{d}$"
      ],
      "text/plain": [
       "Exchange(A=8.78e-12) + DMI(D=0.00158) + Zeeman(H=(0, 0, 100000.0)) + UniaxialAnisotropy(K=1000.0, u=(0, 0, 1)) + Demag()"
      ]
     },
     "execution_count": 2,
     "metadata": {},
     "output_type": "execute_result"
    }
   ],
   "source": [
    "mesh = oc.Mesh(p1=(-50e-9, -50e-9, 0), p2=(50e-9, 50e-9, 10e-9), cell=(2.5e-9, 2.5e-9, 10e-9))\n",
    "\n",
    "def m_initial(pos):\n",
    "    x, y, z = pos\n",
    "    if np.sqrt(x**2 + y**2) < 20e-9:\n",
    "        return (0, 0, -1)\n",
    "    else:\n",
    "        return (0, 0, 1)\n",
    "    \n",
    "system = oc.System(name=\"skyrmion\")\n",
    "system.hamiltonian = oc.Exchange(A=8.78e-12) + \\\n",
    "                     oc.DMI(D=1.58e-3) + \\\n",
    "                     oc.Zeeman(H=(0, 0, 1e5)) + \\\n",
    "                     oc.UniaxialAnisotropy(K=1e3, u=(0, 0, 1)) + \\\n",
    "                     oc.Demag()\n",
    "system.dynamics = oc.Precession(gamma=2.211e5) + oc.Damping(alpha=0.5)\n",
    "system.m = df.Field(mesh, value=m_initial, norm=384e3)\n",
    "system.hamiltonian"
   ]
  },
  {
   "cell_type": "code",
   "execution_count": 3,
   "metadata": {
    "collapsed": false,
    "deletable": true,
    "editable": true
   },
   "outputs": [
    {
     "name": "stdout",
     "output_type": "stream",
     "text": [
      "2017/3/19 1:44: Calling OOMMF (skyrmion/skyrmion.mif) ... [8.6s]\n"
     ]
    }
   ],
   "source": [
    "td = oc.TimeDriver()\n",
    "td.drive(system, t=1e-9, n=100)"
   ]
  },
  {
   "cell_type": "code",
   "execution_count": 5,
   "metadata": {
    "collapsed": false,
    "deletable": true,
    "editable": true
   },
   "outputs": [],
   "source": [
    "import pylab\n",
    "system.m.plot_slice(\"z\", 0);\n",
    "fig = pylab.gcf()\n",
    "fig.savefig('skyrmion.pdf')"
   ]
  },
  {
   "cell_type": "code",
   "execution_count": null,
   "metadata": {
    "collapsed": true
   },
   "outputs": [],
   "source": []
  }
 ],
 "metadata": {
  "kernelspec": {
   "display_name": "Python 3",
   "language": "python",
   "name": "python3"
  },
  "language_info": {
   "codemirror_mode": {
    "name": "ipython",
    "version": 3
   },
   "file_extension": ".py",
   "mimetype": "text/x-python",
   "name": "python",
   "nbconvert_exporter": "python",
   "pygments_lexer": "ipython3",
   "version": "3.6.0"
  }
 },
 "nbformat": 4,
 "nbformat_minor": 2
}
