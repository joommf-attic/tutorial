{
 "cells": [
  {
   "cell_type": "code",
   "execution_count": null,
   "metadata": {
    "collapsed": false,
    "deletable": true,
    "editable": true
   },
   "outputs": [],
   "source": [
    "import oommfc as oc\n",
    "import numpy as np\n",
    "import discretisedfield as df\n",
    "%matplotlib inline"
   ]
  },
  {
   "cell_type": "code",
   "execution_count": null,
   "metadata": {
    "collapsed": true
   },
   "outputs": [],
   "source": [
    "# Skyrmion"
   ]
  },
  {
   "cell_type": "code",
   "execution_count": null,
   "metadata": {
    "collapsed": false,
    "deletable": true,
    "editable": true
   },
   "outputs": [],
   "source": [
    "mesh = oc.Mesh(p1=(-50e-9, -50e-9, 0), p2=(50e-9, 50e-9, 10e-9), cell=(2.5e-9, 2.5e-9, 10e-9))\n",
    "\n",
    "def m_initial(pos):  \n",
    "    \"\"\"Function to prime skyrmion emergence\"\"\"\n",
    "    x, y, z = pos\n",
    "    if np.sqrt(x**2 + y**2) < 20e-9:\n",
    "        return (0, 0, -1)\n",
    "    else:\n",
    "        return (0, 0, 1)\n",
    "    \n",
    "system = oc.System(name=\"skyrmion\")\n",
    "system.hamiltonian = oc.Exchange(A=8.78e-12) + \\\n",
    "                     oc.DMI(D=1.58e-3) + \\\n",
    "                     oc.Zeeman(H=(0, 0, 1e5)) + \\\n",
    "                     oc.UniaxialAnisotropy(K=1e3, u=(0, 0, 1)) + \\\n",
    "                     oc.Demag()\n",
    "system.dynamics = oc.Precession(gamma=2.211e5) + oc.Damping(alpha=0.5)\n",
    "system.m = df.Field(mesh, value=m_initial, norm=384e3)\n",
    "system.hamiltonian"
   ]
  },
  {
   "cell_type": "code",
   "execution_count": null,
   "metadata": {
    "collapsed": false,
    "deletable": true,
    "editable": true
   },
   "outputs": [],
   "source": [
    "td = oc.TimeDriver()\n",
    "td.drive(system, t=1e-9, n=100)"
   ]
  },
  {
   "cell_type": "code",
   "execution_count": null,
   "metadata": {
    "collapsed": false,
    "deletable": true,
    "editable": true
   },
   "outputs": [],
   "source": [
    "system.m.plot_slice(\"z\", 0);"
   ]
  },
  {
   "cell_type": "code",
   "execution_count": null,
   "metadata": {
    "collapsed": false,
    "deletable": true,
    "editable": true
   },
   "outputs": [],
   "source": [
    "system.m.plot_line_intersection(p1=(-49e-9, 0, 0), p2=(49e-9, 0, 0))"
   ]
  },
  {
   "cell_type": "code",
   "execution_count": null,
   "metadata": {
    "collapsed": true,
    "deletable": true,
    "editable": true
   },
   "outputs": [],
   "source": []
  }
 ],
 "metadata": {
  "kernelspec": {
   "display_name": "Python 3",
   "language": "python",
   "name": "python3"
  },
  "language_info": {
   "codemirror_mode": {
    "name": "ipython",
    "version": 3
   },
   "file_extension": ".py",
   "mimetype": "text/x-python",
   "name": "python",
   "nbconvert_exporter": "python",
   "pygments_lexer": "ipython3",
   "version": "3.6.0"
  }
 },
 "nbformat": 4,
 "nbformat_minor": 2
}
