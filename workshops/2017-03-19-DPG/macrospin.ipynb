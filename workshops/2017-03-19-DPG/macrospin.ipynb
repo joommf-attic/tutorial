{
 "cells": [
  {
   "cell_type": "markdown",
   "metadata": {
    "deletable": true,
    "editable": true
   },
   "source": [
    "# Dynamics of macrospin"
   ]
  },
  {
   "cell_type": "code",
   "execution_count": null,
   "metadata": {
    "collapsed": false,
    "deletable": true,
    "editable": true
   },
   "outputs": [],
   "source": [
    "import oommfc as oc\n",
    "import discretisedfield as df\n",
    "%matplotlib inline"
   ]
  },
  {
   "cell_type": "code",
   "execution_count": null,
   "metadata": {
    "collapsed": false,
    "deletable": true,
    "editable": true
   },
   "outputs": [],
   "source": [
    "# define macro spin (i.e. one discretisation cell)\n",
    "p1 = (0, 0, 0)            # all lengths in metre\n",
    "p2 = (5e-9, 5e-9, 5e-9)\n",
    "cell = (5e-9, 5e-9, 5e-9)\n",
    "mesh = oc.Mesh(p1=p1, p2=p2, cell=cell)\n",
    "\n",
    "initial_m = (1, 0, 0)     # vector in x direction\n",
    "Ms = 8e6  # magnetisation saturation (A/m)\n",
    "m = df.Field(mesh, value=initial_m, norm=Ms)"
   ]
  },
  {
   "cell_type": "code",
   "execution_count": null,
   "metadata": {
    "collapsed": false,
    "deletable": true,
    "editable": true
   },
   "outputs": [],
   "source": [
    "zeeman = oc.Zeeman(H=(0, 0, -5e6)) # external magnetic field (A/m)"
   ]
  },
  {
   "cell_type": "code",
   "execution_count": null,
   "metadata": {
    "collapsed": false,
    "deletable": true,
    "editable": true
   },
   "outputs": [],
   "source": []
  },
  {
   "cell_type": "code",
   "execution_count": null,
   "metadata": {
    "collapsed": false,
    "deletable": true,
    "editable": true
   },
   "outputs": [],
   "source": []
  },
  {
   "cell_type": "code",
   "execution_count": null,
   "metadata": {
    "collapsed": true,
    "deletable": true,
    "editable": true
   },
   "outputs": [],
   "source": [
    "gamma = 2.211e5  # gyrotropic ration\n",
    "alpha = 0.05 # Gilbert damping\n",
    "\n",
    "system = oc.System(name=\"macrospin\")\n",
    "system.hamiltonian = zeeman\n",
    "system.m = m\n",
    "system.dynamics = oc.Precession(gamma) + oc.Damping(alpha)"
   ]
  },
  {
   "cell_type": "code",
   "execution_count": null,
   "metadata": {
    "collapsed": false,
    "deletable": true,
    "editable": true
   },
   "outputs": [],
   "source": [
    "td = oc.TimeDriver()\n",
    "td.drive(system, t=0.1e-9, n=200)"
   ]
  },
  {
   "cell_type": "code",
   "execution_count": null,
   "metadata": {
    "collapsed": false,
    "deletable": true,
    "editable": true
   },
   "outputs": [],
   "source": [
    "d = system.dt    # pure convenience: DataTable -> d\n"
   ]
  },
  {
   "cell_type": "markdown",
   "metadata": {
    "collapsed": false,
    "deletable": true,
    "editable": true
   },
   "source": [
    "What is $m_x(t)$ ?"
   ]
  },
  {
   "cell_type": "code",
   "execution_count": null,
   "metadata": {
    "collapsed": false,
    "deletable": true,
    "editable": true
   },
   "outputs": [],
   "source": []
  },
  {
   "cell_type": "markdown",
   "metadata": {
    "deletable": true,
    "editable": true
   },
   "source": [
    "Role of alpha? H_external?"
   ]
  }
 ],
 "metadata": {
  "kernelspec": {
   "display_name": "Python 3",
   "language": "python",
   "name": "python3"
  },
  "language_info": {
   "codemirror_mode": {
    "name": "ipython",
    "version": 3
   },
   "file_extension": ".py",
   "mimetype": "text/x-python",
   "name": "python",
   "nbconvert_exporter": "python",
   "pygments_lexer": "ipython3",
   "version": "3.6.0"
  }
 },
 "nbformat": 4,
 "nbformat_minor": 2
}
