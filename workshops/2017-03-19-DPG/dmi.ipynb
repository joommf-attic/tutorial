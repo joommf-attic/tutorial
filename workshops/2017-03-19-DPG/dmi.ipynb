{
 "cells": [
  {
   "cell_type": "markdown",
   "metadata": {
    "deletable": true,
    "editable": true
   },
   "source": [
    "# Dzyaloshinkii-Moriya"
   ]
  },
  {
   "cell_type": "code",
   "execution_count": 1,
   "metadata": {
    "collapsed": false,
    "deletable": true,
    "editable": true
   },
   "outputs": [
    {
     "data": {
      "image/png": "[encoded data removed]",
      "text/plain": [
       "<matplotlib.figure.Figure at 0x105c369b0>"
      ]
     },
     "metadata": {},
     "output_type": "display_data"
    }
   ],
   "source": [
    "%matplotlib inline\n",
    "import random\n",
    "import oommfc as oc\n",
    "import discretisedfield as df\n",
    "\n",
    "random.seed(9999)\n",
    "\n",
    "p1 = (0, 0, 0)\n",
    "p2 = (100e-9, 10e-9, 10e-9)\n",
    "cell = (10e-9, 10e-9, 10e-9)\n",
    "\n",
    "mesh = oc.Mesh(p1=p1, p2=p2, cell=cell)\n",
    "\n",
    "def random_m(pos):\n",
    "    mx = 2*random.random() - 1\n",
    "    my = 2*random.random() - 1\n",
    "    mz = 2*random.random() - 1\n",
    "    return mx, my, mz\n",
    "\n",
    "Ms = 8e6  # magnetisation saturation (A/m)\n",
    "random_field = df.Field(mesh, value=random_m, norm=Ms)\n",
    "random_field.plot_slice(\"y\", 0);"
   ]
  },
  {
   "cell_type": "code",
   "execution_count": 2,
   "metadata": {
    "collapsed": false,
    "deletable": true,
    "editable": true
   },
   "outputs": [
    {
     "data": {
      "text/latex": [
       "$D \\mathbf{m} \\cdot (\\nabla \\times \\mathbf{m})$"
      ],
      "text/plain": [
       "DMI(D=0.05)"
      ]
     },
     "execution_count": 2,
     "metadata": {},
     "output_type": "execute_result"
    }
   ],
   "source": [
    "D = 5e-2  # Dzyaloshinkii-MOriya energy constant (J/m**2)\n",
    "\n",
    "dmi = oc.DMI(D=D)\n",
    "\n",
    "dmi"
   ]
  },
  {
   "cell_type": "code",
   "execution_count": 3,
   "metadata": {
    "collapsed": true,
    "deletable": true,
    "editable": true
   },
   "outputs": [],
   "source": [
    "system = oc.System(name=\"dmi_tutorial\")\n",
    "\n",
    "gamma = 2.211e5  # gyrotropic ration\n",
    "alpha = 0.5  # Gilbert damping\n",
    "\n",
    "system.dynamics = oc.Precession(gamma=gamma) + oc.Damping(alpha=alpha)\n",
    "system.hamiltonian = dmi\n",
    "system.m = random_field"
   ]
  },
  {
   "cell_type": "code",
   "execution_count": 4,
   "metadata": {
    "collapsed": false,
    "deletable": true,
    "editable": true
   },
   "outputs": [
    {
     "name": "stdout",
     "output_type": "stream",
     "text": [
      "2017/3/17 14:5: Calling OOMMF (dmi_tutorial/dmi_tutorial.mif) ... [6.4s]\n"
     ]
    },
    {
     "data": {
      "image/png": "[encoded data removed]",
      "text/plain": [
       "<matplotlib.figure.Figure at 0x105c54518>"
      ]
     },
     "metadata": {},
     "output_type": "display_data"
    }
   ],
   "source": [
    "td = oc.TimeDriver()\n",
    "\n",
    "td.drive(system, t=0.5e-9, n=100)\n",
    "\n",
    "system.m.plot_slice(\"y\", 0);"
   ]
  }
 ],
 "metadata": {
  "kernelspec": {
   "display_name": "Python 3",
   "language": "python",
   "name": "python3"
  },
  "language_info": {
   "codemirror_mode": {
    "name": "ipython",
    "version": 3
   },
   "file_extension": ".py",
   "mimetype": "text/x-python",
   "name": "python",
   "nbconvert_exporter": "python",
   "pygments_lexer": "ipython3",
   "version": "3.6.0"
  }
 },
 "nbformat": 4,
 "nbformat_minor": 2
}
